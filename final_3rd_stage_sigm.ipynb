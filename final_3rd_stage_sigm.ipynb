{
  "cells": [
    {
      "cell_type": "markdown",
      "metadata": {
        "id": "view-in-github",
        "colab_type": "text"
      },
      "source": [
        "<a href=\"https://colab.research.google.com/github/vfrantc/deweather/blob/main/final_3rd_stage_sigm.ipynb\" target=\"_parent\"><img src=\"https://colab.research.google.com/assets/colab-badge.svg\" alt=\"Open In Colab\"/></a>"
      ]
    },
    {
      "cell_type": "code",
      "execution_count": 1,
      "metadata": {
        "colab": {
          "base_uri": "https://localhost:8080/"
        },
        "id": "IzpwHbov4psu",
        "outputId": "1a13aa30-8a98-4e72-c4f8-02371cf17a0b"
      },
      "outputs": [
        {
          "output_type": "stream",
          "name": "stdout",
          "text": [
            "Fri Jul  8 17:34:25 2022       \n",
            "+-----------------------------------------------------------------------------+\n",
            "| NVIDIA-SMI 460.32.03    Driver Version: 460.32.03    CUDA Version: 11.2     |\n",
            "|-------------------------------+----------------------+----------------------+\n",
            "| GPU  Name        Persistence-M| Bus-Id        Disp.A | Volatile Uncorr. ECC |\n",
            "| Fan  Temp  Perf  Pwr:Usage/Cap|         Memory-Usage | GPU-Util  Compute M. |\n",
            "|                               |                      |               MIG M. |\n",
            "|===============================+======================+======================|\n",
            "|   0  Tesla V100-SXM2...  Off  | 00000000:00:04.0 Off |                    0 |\n",
            "| N/A   33C    P0    23W / 300W |      0MiB / 16160MiB |      0%      Default |\n",
            "|                               |                      |                  N/A |\n",
            "+-------------------------------+----------------------+----------------------+\n",
            "                                                                               \n",
            "+-----------------------------------------------------------------------------+\n",
            "| Processes:                                                                  |\n",
            "|  GPU   GI   CI        PID   Type   Process name                  GPU Memory |\n",
            "|        ID   ID                                                   Usage      |\n",
            "|=============================================================================|\n",
            "|  No running processes found                                                 |\n",
            "+-----------------------------------------------------------------------------+\n"
          ]
        }
      ],
      "source": [
        "!nvidia-smi"
      ]
    },
    {
      "cell_type": "code",
      "execution_count": 2,
      "metadata": {
        "colab": {
          "base_uri": "https://localhost:8080/"
        },
        "id": "9WLvgF133L05",
        "outputId": "ade7056d-0fe4-4dff-ec98-fd881a2235d3"
      },
      "outputs": [
        {
          "output_type": "stream",
          "name": "stdout",
          "text": [
            "Mounted at drive\n"
          ]
        }
      ],
      "source": [
        "from google.colab import drive\n",
        "drive.mount('drive')"
      ]
    },
    {
      "cell_type": "code",
      "execution_count": 3,
      "metadata": {
        "colab": {
          "base_uri": "https://localhost:8080/"
        },
        "id": "xThgAOTF3PW7",
        "outputId": "8d2aee7f-0ed6-403a-d71a-4140a0310614"
      },
      "outputs": [
        {
          "output_type": "stream",
          "name": "stdout",
          "text": [
            "Cloning into 'deweather'...\n",
            "remote: Enumerating objects: 394, done.\u001b[K\n",
            "remote: Counting objects: 100% (138/138), done.\u001b[K\n",
            "remote: Compressing objects: 100% (101/101), done.\u001b[K\n",
            "remote: Total 394 (delta 90), reused 69 (delta 37), pack-reused 256\u001b[K\n",
            "Receiving objects: 100% (394/394), 10.80 MiB | 12.26 MiB/s, done.\n",
            "Resolving deltas: 100% (213/213), done.\n"
          ]
        }
      ],
      "source": [
        "!git clone https://github.com/vfrantc/deweather.git"
      ]
    },
    {
      "cell_type": "code",
      "execution_count": 4,
      "metadata": {
        "colab": {
          "base_uri": "https://localhost:8080/"
        },
        "id": "idIYyIcKXYxM",
        "outputId": "752d579b-6295-4a16-ca62-ee80e612c1d7"
      },
      "outputs": [
        {
          "output_type": "stream",
          "name": "stdout",
          "text": [
            "/content/deweather/TransWeather-3stage\n"
          ]
        }
      ],
      "source": [
        "%cd deweather/TransWeather-3stage"
      ]
    },
    {
      "cell_type": "code",
      "execution_count": 5,
      "metadata": {
        "colab": {
          "base_uri": "https://localhost:8080/"
        },
        "id": "8RoyYe5pXYz_",
        "outputId": "d3a07010-7bf9-4542-e1fb-a343a717cf5f"
      },
      "outputs": [
        {
          "output_type": "stream",
          "name": "stdout",
          "text": [
            "Archive:  dehaze_15ep.zip\n",
            "   creating: Transweather/\n",
            "  inflating: Transweather/best       \n",
            "  inflating: Transweather/latest     \n"
          ]
        }
      ],
      "source": [
        "!cp /content/drive/MyDrive/deweather/dehaze_15ep.zip .\n",
        "!unzip dehaze_15ep.zip"
      ]
    },
    {
      "cell_type": "code",
      "execution_count": 6,
      "metadata": {
        "id": "FkWdWVwEXY2k"
      },
      "outputs": [],
      "source": [
        "!mkdir trained\n",
        "!cp Transweather/best trained/"
      ]
    },
    {
      "cell_type": "code",
      "execution_count": 7,
      "metadata": {
        "id": "Qmo9HxdoXY5c"
      },
      "outputs": [],
      "source": [
        "!cp /content/drive/MyDrive/deweather2/decomp.tar ."
      ]
    },
    {
      "cell_type": "code",
      "execution_count": null,
      "metadata": {
        "id": "mQtwleJdXY8C"
      },
      "outputs": [],
      "source": [
        "!cp /content/drive/MyDrive/derain/data.zip .\n",
        "!unzip data.zip\n",
        "!mkdir ./training_log"
      ]
    },
    {
      "cell_type": "code",
      "execution_count": null,
      "metadata": {
        "id": "2HvMsHamXY-6"
      },
      "outputs": [],
      "source": [
        "!pip install kornia"
      ]
    },
    {
      "cell_type": "code",
      "execution_count": null,
      "metadata": {
        "colab": {
          "background_save": true
        },
        "id": "yX9gVJRYXZBg"
      },
      "outputs": [],
      "source": [
        "!python3 train_stage3.py  -train_batch_size 16 -exp_name Transweather -epoch_start 0 -num_epochs 20"
      ]
    },
    {
      "cell_type": "code",
      "execution_count": null,
      "metadata": {
        "id": "IKSfdy34XZEX"
      },
      "outputs": [],
      "source": [
        "!zip -r model_stage3_6.07_100.zip ./Transweather/\n",
        "!cp model_stage3_6.07_100.zip /content/drive/MyDrive/deweather2"
      ]
    },
    {
      "cell_type": "code",
      "execution_count": null,
      "metadata": {
        "id": "bbgV-A39Xsst"
      },
      "outputs": [],
      "source": [
        "!mkdir -p data/test\n",
        "!cp /content/drive/MyDrive/deweather2/input.zip .\n",
        "!unzip input.zip\n",
        "!cp -r input data/test/\n",
        "!cp input/natural.txt data/test/input.txt\n",
        "!mkdir natural_results\n",
        "!mkdir -p data/test/gt\n",
        "!cp -r input/input data/test/gt/gt"
      ]
    },
    {
      "cell_type": "code",
      "execution_count": null,
      "metadata": {
        "id": "XoXW2LCIXsyW"
      },
      "outputs": [],
      "source": [
        "!python test_real.py -exp_name=./Transweather"
      ]
    },
    {
      "cell_type": "code",
      "execution_count": null,
      "metadata": {
        "id": "gzxEMIu5Xsza"
      },
      "outputs": [],
      "source": [
        "!zip -r result_out6_sigm.zip ./results/\n",
        "!cp result_out6_sigm.zip /content/drive/MyDrive/deweather2"
      ]
    },
    {
      "cell_type": "code",
      "execution_count": null,
      "metadata": {
        "id": "ksx0HAOjXs19"
      },
      "outputs": [],
      "source": [
        ""
      ]
    },
    {
      "cell_type": "code",
      "execution_count": null,
      "metadata": {
        "id": "ONBW1E9iXs5I"
      },
      "outputs": [],
      "source": [
        ""
      ]
    }
  ],
  "metadata": {
    "accelerator": "GPU",
    "colab": {
      "collapsed_sections": [],
      "name": "final_3rd_stage_sigm.ipynb",
      "provenance": [],
      "authorship_tag": "ABX9TyND7hnE4j5SoyijM5nOw5Sf",
      "include_colab_link": true
    },
    "gpuClass": "standard",
    "kernelspec": {
      "display_name": "Python 3",
      "name": "python3"
    },
    "language_info": {
      "name": "python"
    }
  },
  "nbformat": 4,
  "nbformat_minor": 0
}