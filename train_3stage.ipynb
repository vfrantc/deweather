{
  "nbformat": 4,
  "nbformat_minor": 0,
  "metadata": {
    "colab": {
      "name": "train_3stage.ipynb",
      "provenance": [],
      "authorship_tag": "ABX9TyOqod6oSKC5nFBlkw7iHG1c",
      "include_colab_link": true
    },
    "kernelspec": {
      "name": "python3",
      "display_name": "Python 3"
    },
    "language_info": {
      "name": "python"
    }
  },
  "cells": [
    {
      "cell_type": "markdown",
      "metadata": {
        "id": "view-in-github",
        "colab_type": "text"
      },
      "source": [
        "<a href=\"https://colab.research.google.com/github/vfrantc/deweather/blob/main/train_3stage.ipynb\" target=\"_parent\"><img src=\"https://colab.research.google.com/assets/colab-badge.svg\" alt=\"Open In Colab\"/></a>"
      ]
    },
    {
      "cell_type": "code",
      "execution_count": 1,
      "metadata": {
        "colab": {
          "base_uri": "https://localhost:8080/"
        },
        "id": "b_3T3EuhVahV",
        "outputId": "d4895f79-a0e0-4d4e-c1ba-1975d87d9aae"
      },
      "outputs": [
        {
          "output_type": "stream",
          "name": "stdout",
          "text": [
            "NVIDIA-SMI has failed because it couldn't communicate with the NVIDIA driver. Make sure that the latest NVIDIA driver is installed and running.\n",
            "\n"
          ]
        }
      ],
      "source": [
        "!nvidia-smi"
      ]
    },
    {
      "cell_type": "code",
      "source": [
        "from google.colab import drive\n",
        "drive.mount('drive')"
      ],
      "metadata": {
        "colab": {
          "base_uri": "https://localhost:8080/"
        },
        "id": "gbSc-JcLbq-s",
        "outputId": "e7efffac-bdfa-415a-a2cc-e00653830c33"
      },
      "execution_count": 2,
      "outputs": [
        {
          "output_type": "stream",
          "name": "stdout",
          "text": [
            "Mounted at drive\n"
          ]
        }
      ]
    },
    {
      "cell_type": "code",
      "source": [
        "!git clone https://github.com/vfrantc/deweather.git"
      ],
      "metadata": {
        "colab": {
          "base_uri": "https://localhost:8080/"
        },
        "id": "dwIorOkgbvSN",
        "outputId": "6001a871-69cd-41c5-9271-a5a50dd39414"
      },
      "execution_count": 3,
      "outputs": [
        {
          "output_type": "stream",
          "name": "stdout",
          "text": [
            "Cloning into 'deweather'...\n",
            "remote: Enumerating objects: 122, done.\u001b[K\n",
            "remote: Counting objects: 100% (122/122), done.\u001b[K\n",
            "remote: Compressing objects: 100% (83/83), done.\u001b[K\n",
            "remote: Total 122 (delta 44), reused 92 (delta 26), pack-reused 0\u001b[K\n",
            "Receiving objects: 100% (122/122), 6.46 MiB | 30.78 MiB/s, done.\n",
            "Resolving deltas: 100% (44/44), done.\n"
          ]
        }
      ]
    },
    {
      "cell_type": "code",
      "source": [
        "%cd deweather/TransWeather-3stage"
      ],
      "metadata": {
        "colab": {
          "base_uri": "https://localhost:8080/"
        },
        "id": "qHoH2qxlcTZy",
        "outputId": "d1f6aed2-d659-4b5c-bd45-228bf3e83680"
      },
      "execution_count": 4,
      "outputs": [
        {
          "output_type": "stream",
          "name": "stdout",
          "text": [
            "/content/deweather/TransWeather-3stage\n"
          ]
        }
      ]
    },
    {
      "cell_type": "code",
      "source": [
        "!cp /content/drive/MyDrive/deweather2/dehaze_10ep.zip .\n",
        "!unzip dehaze_10ep.zip"
      ],
      "metadata": {
        "colab": {
          "base_uri": "https://localhost:8080/"
        },
        "id": "fg_86-pPceVc",
        "outputId": "8a1763b4-c00f-4967-fead-053b33717d99"
      },
      "execution_count": 5,
      "outputs": [
        {
          "output_type": "stream",
          "name": "stdout",
          "text": [
            "Archive:  dehaze_10ep.zip\n",
            "   creating: Transweather/\n",
            "  inflating: Transweather/best       \n",
            "  inflating: Transweather/latest     \n"
          ]
        }
      ]
    },
    {
      "cell_type": "code",
      "source": [
        "!cp Transweather/best trained/"
      ],
      "metadata": {
        "id": "LpphtEmhdZdt"
      },
      "execution_count": 6,
      "outputs": []
    },
    {
      "cell_type": "code",
      "source": [
        "!cp drive/MyDrive/derain/data.zip .\n",
        "!unzip data.zip\n",
        "!mkdir ./training_log"
      ],
      "metadata": {
        "id": "_BuO92GSdhKm"
      },
      "execution_count": null,
      "outputs": []
    },
    {
      "cell_type": "code",
      "source": [
        "!python3 train_stage3.py  -train_batch_size 32 -exp_name Transweather -epoch_start 0 -num_epochs 50"
      ],
      "metadata": {
        "id": "aCvBFVq_dxvs"
      },
      "execution_count": null,
      "outputs": []
    },
    {
      "cell_type": "code",
      "source": [
        "!zip -r stage3.zip ./Transweather/\n",
        "!cp stage3.zip /content/drive/MyDrive/derain"
      ],
      "metadata": {
        "id": "k66vhrPseZ7S"
      },
      "execution_count": null,
      "outputs": []
    }
  ]
}